{
 "cells": [
  {
   "cell_type": "markdown",
   "metadata": {},
   "source": [
    "#### In this problem you, can simulate a simplified airport security system at a busy airport. \n",
    "#### Passengers arrive according to a Poisson distribution with λ1 = 5 per minute (i.e., mean interarrival rate µ1 = 0.2 minutes) to the ID/boarding-pass check queue, where there are several servers who each have exponential service time with mean rate µ2 = 0.75 minutes. [Hint: model them as one block that has more than one resource.]  where they go through the personal scanner (time is uniformly distributed between 0.5 minutes and 1 minute).\n",
    "\n",
    "#### Use the Arena software (PC users) or Python with SimPy (PC or Mac users) to build a simulation of the system, and then vary the number of ID/boarding-pass checkers and personal-check queues to  determine how many are needed to keep average wait times below 15 minutes. [If you’re using SimPy,  or if you have access to a non-student version of Arena, you can use λ1 = 50 to simulate a busier airport.]"
   ]
  },
  {
   "cell_type": "code",
   "execution_count": 14,
   "metadata": {},
   "outputs": [],
   "source": [
    "import random\n",
    "import simpy\n",
    "\n",
    "\n",
    "arrival_lambda_1 = 5\n",
    "arrival_mu = .2\n",
    "server_mu = .75\n",
    "scanner_lower = 0.5\n",
    "scanner_upper = 1\n",
    "max_wait = 15\n",
    "sim_time = 30\n",
    "\n",
    "num_scanners = 20\n",
    "num_controllers = 10\n"
   ]
  },
  {
   "cell_type": "code",
   "execution_count": 15,
   "metadata": {},
   "outputs": [],
   "source": [
    "class Airport(object):\n",
    "    \"\"\"A airport has a limited number of machines (``NUM_MACHINES``) to\n",
    "    clean cars in parallel.\n",
    "\n",
    "    Cars have to request one of the machines. When they got one, they\n",
    "    can start the washing processes and wait for it to finish (which\n",
    "    takes ``washtime`` minutes).\n",
    "\n",
    "    \"\"\"\n",
    "    def __init__(self, env, num_controllers, num_scanners):\n",
    "        self.env = env\n",
    "        self.controller = simpy.Resource(env, num_controllers)\n",
    "        self.scanner = simpy.Resource(env, num_scanners)\n",
    "        #self.washtime = washtime\n",
    "\n",
    "\n",
    "    def controller(self, passenger):\n",
    "        \"\"\"The washing processes. It takes a ``car`` processes and tries\n",
    "        to clean it.\"\"\"\n",
    "        yield self.env.timeout(random.expovariate(server_mu))\n",
    "        \n",
    "    def scanner(self, passenger):\n",
    "        yield self.env.timeout(random.uniform(scanner_lower, scanner_upper))\n",
    "\n",
    "def passenger(env, name, airport):\n",
    "    \"\"\"The car process (each car has a ``name``) arrives at the carwash\n",
    "    (``cw``) and requests a cleaning machine.\n",
    "\n",
    "    It then starts the washing process, waits for it to finish and\n",
    "    leaves to never come back ...\n",
    "\n",
    "    \"\"\"\n",
    "    print('%s arrives at the carwash at %.2f.' % (name, env.now))\n",
    "    with airport.controller.request() as request:\n",
    "        yield request\n",
    "\n",
    "        print('%s enters the controller line at %.2f.' % (name, env.now))\n",
    "        yield env.process(airport.controller(name))\n",
    "\n",
    "        print('%s leaves the carwash at %.2f.' % (name, env.now))\n",
    "        \n",
    "    # what about scanner??\n",
    "    with airport.scanner.request() as request:\n",
    "        yield request\n",
    "\n",
    "        print('%s enters the controller line at %.2f.' % (name, env.now))\n",
    "        yield env.process(airport.scanner(name))\n",
    "\n",
    "        print('%s leaves the carwash at %.2f.' % (name, env.now))\n",
    "\n",
    "        \n",
    "        \n",
    "        \n",
    "\n",
    "def setup(env, num_scanners, num_controllers):\n",
    "\n",
    "    ## Create the carwash\n",
    "    #carwash = Carwash(env, num_machines, washtime)\n",
    "\n",
    "    # create airport\n",
    "    airport = Airport(env, num_scanners, num_controllers)\n",
    "    \n",
    "    # Create 4 initial cars\n",
    "    #for i in range(4):\n",
    "    #    env.process(car(env, 'Car %d' % i, carwash))\n",
    "\n",
    "    \n",
    "    # Create passengers while the simulation is running\n",
    "    i = 0 # person 1, not 0 indexed\n",
    "    \n",
    "    while True:\n",
    "        #yield env.timeout(random.randint(t_inter - 2, t_inter + 2))\n",
    "        #i += 1\n",
    "        #env.process(passenger(env, 'Car %d' % i, airport))\n",
    "        \n",
    "        \n",
    "        arrival_int = random.expovariate(arrival_lambda_1)\n",
    "        yield env.timeout(arrival_int)\n",
    "        i += 1\n",
    "        env.process(passenger(env, 'Passenger %d' % i, airport))\n",
    "\n",
    "        "
   ]
  },
  {
   "cell_type": "code",
   "execution_count": 16,
   "metadata": {},
   "outputs": [
    {
     "name": "stdout",
     "output_type": "stream",
     "text": [
      "People are arriving...omg!\n",
      "Passenger 1 arrives at the carwash at 0.01.\n",
      "Passenger 1 enters the controller line at 0.01.\n"
     ]
    },
    {
     "ename": "TypeError",
     "evalue": "'Resource' object is not callable",
     "output_type": "error",
     "traceback": [
      "\u001b[1;31m---------------------------------------------------------------------------\u001b[0m",
      "\u001b[1;31mTypeError\u001b[0m                                 Traceback (most recent call last)",
      "\u001b[1;32m<ipython-input-15-3c8c26553101>\u001b[0m in \u001b[0;36mpassenger\u001b[1;34m(env, name, airport)\u001b[0m\n\u001b[0;32m     37\u001b[0m         \u001b[0mprint\u001b[0m\u001b[1;33m(\u001b[0m\u001b[1;34m'%s enters the controller line at %.2f.'\u001b[0m \u001b[1;33m%\u001b[0m \u001b[1;33m(\u001b[0m\u001b[0mname\u001b[0m\u001b[1;33m,\u001b[0m \u001b[0menv\u001b[0m\u001b[1;33m.\u001b[0m\u001b[0mnow\u001b[0m\u001b[1;33m)\u001b[0m\u001b[1;33m)\u001b[0m\u001b[1;33m\u001b[0m\u001b[0m\n\u001b[1;32m---> 38\u001b[1;33m         \u001b[1;32myield\u001b[0m \u001b[0menv\u001b[0m\u001b[1;33m.\u001b[0m\u001b[0mprocess\u001b[0m\u001b[1;33m(\u001b[0m\u001b[0mairport\u001b[0m\u001b[1;33m.\u001b[0m\u001b[0mcontroller\u001b[0m\u001b[1;33m(\u001b[0m\u001b[0mname\u001b[0m\u001b[1;33m)\u001b[0m\u001b[1;33m)\u001b[0m\u001b[1;33m\u001b[0m\u001b[0m\n\u001b[0m\u001b[0;32m     39\u001b[0m \u001b[1;33m\u001b[0m\u001b[0m\n",
      "\u001b[1;31mTypeError\u001b[0m: 'Resource' object is not callable",
      "\nThe above exception was the direct cause of the following exception:\n",
      "\u001b[1;31mTypeError\u001b[0m                                 Traceback (most recent call last)",
      "\u001b[1;32m<ipython-input-16-2b40cc426171>\u001b[0m in \u001b[0;36m<module>\u001b[1;34m()\u001b[0m\n\u001b[0;32m      9\u001b[0m \u001b[1;33m\u001b[0m\u001b[0m\n\u001b[0;32m     10\u001b[0m \u001b[1;31m# Execute!\u001b[0m\u001b[1;33m\u001b[0m\u001b[1;33m\u001b[0m\u001b[0m\n\u001b[1;32m---> 11\u001b[1;33m \u001b[0menv\u001b[0m\u001b[1;33m.\u001b[0m\u001b[0mrun\u001b[0m\u001b[1;33m(\u001b[0m\u001b[0muntil\u001b[0m\u001b[1;33m=\u001b[0m\u001b[0msim_time\u001b[0m\u001b[1;33m)\u001b[0m\u001b[1;33m\u001b[0m\u001b[0m\n\u001b[0m",
      "\u001b[1;32mC:\\Miniconda3\\envs\\sim_env\\lib\\site-packages\\simpy\\core.py\u001b[0m in \u001b[0;36mrun\u001b[1;34m(self, until)\u001b[0m\n\u001b[0;32m    135\u001b[0m         \u001b[1;32mtry\u001b[0m\u001b[1;33m:\u001b[0m\u001b[1;33m\u001b[0m\u001b[0m\n\u001b[0;32m    136\u001b[0m             \u001b[1;32mwhile\u001b[0m \u001b[1;32mTrue\u001b[0m\u001b[1;33m:\u001b[0m\u001b[1;33m\u001b[0m\u001b[0m\n\u001b[1;32m--> 137\u001b[1;33m                 \u001b[0mself\u001b[0m\u001b[1;33m.\u001b[0m\u001b[0mstep\u001b[0m\u001b[1;33m(\u001b[0m\u001b[1;33m)\u001b[0m\u001b[1;33m\u001b[0m\u001b[0m\n\u001b[0m\u001b[0;32m    138\u001b[0m         \u001b[1;32mexcept\u001b[0m \u001b[0mStopSimulation\u001b[0m \u001b[1;32mas\u001b[0m \u001b[0mexc\u001b[0m\u001b[1;33m:\u001b[0m\u001b[1;33m\u001b[0m\u001b[0m\n\u001b[0;32m    139\u001b[0m             \u001b[1;32mreturn\u001b[0m \u001b[0mexc\u001b[0m\u001b[1;33m.\u001b[0m\u001b[0margs\u001b[0m\u001b[1;33m[\u001b[0m\u001b[1;36m0\u001b[0m\u001b[1;33m]\u001b[0m  \u001b[1;31m# == until.value\u001b[0m\u001b[1;33m\u001b[0m\u001b[0m\n",
      "\u001b[1;32mC:\\Miniconda3\\envs\\sim_env\\lib\\site-packages\\simpy\\core.py\u001b[0m in \u001b[0;36mstep\u001b[1;34m(self)\u001b[0m\n\u001b[0;32m    227\u001b[0m             \u001b[0mexc\u001b[0m \u001b[1;33m=\u001b[0m \u001b[0mtype\u001b[0m\u001b[1;33m(\u001b[0m\u001b[0mevent\u001b[0m\u001b[1;33m.\u001b[0m\u001b[0m_value\u001b[0m\u001b[1;33m)\u001b[0m\u001b[1;33m(\u001b[0m\u001b[1;33m*\u001b[0m\u001b[0mevent\u001b[0m\u001b[1;33m.\u001b[0m\u001b[0m_value\u001b[0m\u001b[1;33m.\u001b[0m\u001b[0margs\u001b[0m\u001b[1;33m)\u001b[0m\u001b[1;33m\u001b[0m\u001b[0m\n\u001b[0;32m    228\u001b[0m             \u001b[0mexc\u001b[0m\u001b[1;33m.\u001b[0m\u001b[0m__cause__\u001b[0m \u001b[1;33m=\u001b[0m \u001b[0mevent\u001b[0m\u001b[1;33m.\u001b[0m\u001b[0m_value\u001b[0m\u001b[1;33m\u001b[0m\u001b[0m\n\u001b[1;32m--> 229\u001b[1;33m             \u001b[1;32mraise\u001b[0m \u001b[0mexc\u001b[0m\u001b[1;33m\u001b[0m\u001b[0m\n\u001b[0m",
      "\u001b[1;31mTypeError\u001b[0m: 'Resource' object is not callable"
     ]
    }
   ],
   "source": [
    "\n",
    "# Setup and start the simulation\n",
    "print('People are arriving...omg!')\n",
    "random.seed(123)  # This helps reproducing the results\n",
    "\n",
    "# Create an environment and start the setup process\n",
    "env = simpy.Environment()\n",
    "env.process(setup(env, num_controllers, num_scanners))\n",
    "\n",
    "# Execute!\n",
    "env.run(until=sim_time)"
   ]
  },
  {
   "cell_type": "code",
   "execution_count": null,
   "metadata": {},
   "outputs": [],
   "source": []
  },
  {
   "cell_type": "code",
   "execution_count": null,
   "metadata": {},
   "outputs": [],
   "source": []
  }
 ],
 "metadata": {
  "kernelspec": {
   "display_name": "Python 3",
   "language": "python",
   "name": "python3"
  },
  "language_info": {
   "codemirror_mode": {
    "name": "ipython",
    "version": 3
   },
   "file_extension": ".py",
   "mimetype": "text/x-python",
   "name": "python",
   "nbconvert_exporter": "python",
   "pygments_lexer": "ipython3",
   "version": "3.5.6"
  }
 },
 "nbformat": 4,
 "nbformat_minor": 2
}
