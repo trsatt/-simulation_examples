{
 "cells": [
  {
   "cell_type": "markdown",
   "metadata": {},
   "source": [
    "#### Simulates a simplified airport security system at a busy airport. \n",
    "#### Passengers arrive according to a Poisson distribution with λ1 = 5 per minute (i.e., mean interarrival rate µ1 = 0.2 minutes) to the ID/boarding-pass check queue, where there are several servers who each have exponential service time with mean rate µ2 = 0.75 minutes. [Hint: model them as one block that has more than one resource.]  where they go through the personal scanner (time is uniformly distributed between 0.5 minutes and 1 minute).\n"]
  },
  {
   "cell_type": "code",
   "execution_count": 16,
   "metadata": {},
   "outputs": [],
   "source": [
    "# import packages, set queing params\n",
    "import random\n",
    "import simpy\n",
    "import numpy as np\n",
    "from math import floor\n",
    "\n",
    "arrival_lambda_1 = 5\n",
    "arrival_mu = .2\n",
    "server_mu = .75\n",
    "scanner_lower = 0.5\n",
    "scanner_upper = 1\n",
    "max_wait = 15\n",
    "random.seed(123)  # This helps reproducing the results\n",
    "\n",
    "# dictionary for storing avg wait times\n",
    "avg_wait_times = {}\n"
   ]
  },
  {
   "cell_type": "code",
   "execution_count": 22,
   "metadata": {},
   "outputs": [
    {
     "name": "stdout",
     "output_type": "stream",
     "text": [
      "they waited an average of 154.6393456136308. what sucksers! with 1 id contorls and 3 scanners\n",
      "they waited an average of 134.87393117657425. what sucksers! with 2 id contorls and 4 scanners\n",
      "they waited an average of 127.40072005527504. what sucksers! with 2 id contorls and 5 scanners\n",
      "they waited an average of 102.11171783127156. what sucksers! with 3 id contorls and 6 scanners\n",
      "they waited an average of 93.75521276759598. what sucksers! with 3 id contorls and 7 scanners\n",
      "they waited an average of 82.48786185557276. what sucksers! with 4 id contorls and 8 scanners\n",
      "they waited an average of 71.12557317723198. what sucksers! with 4 id contorls and 9 scanners\n",
      "they waited an average of 38.40543630383313. what sucksers! with 5 id contorls and 10 scanners\n",
      "they waited an average of 47.59949183720798. what sucksers! with 5 id contorls and 11 scanners\n",
      "they waited an average of 16.085267842704923. what sucksers! with 6 id contorls and 12 scanners\n",
      "they waited an average of 25.948399902803725. what sucksers! with 6 id contorls and 13 scanners\n",
      "they waited an average of 3.4789667078988953. what sucksers! with 7 id contorls and 14 scanners\n",
      "they waited an average of 3.588365886447658. what sucksers! with 7 id contorls and 15 scanners\n",
      "they waited an average of 2.9427666226641116. what sucksers! with 8 id contorls and 16 scanners\n",
      "they waited an average of 2.4953643888533383. what sucksers! with 8 id contorls and 17 scanners\n",
      "they waited an average of 2.276157968232776. what sucksers! with 9 id contorls and 18 scanners\n",
      "they waited an average of 2.2425109644754957. what sucksers! with 9 id contorls and 19 scanners\n",
      "they waited an average of 2.115545973831607. what sucksers! with 10 id contorls and 20 scanners\n",
      "{3: 154.6393456136308, 4: 134.87393117657425, 5: 127.40072005527504, 6: 102.11171783127156, 7: 93.75521276759598, 8: 82.48786185557276, 9: 71.12557317723198, 10: 38.40543630383313, 11: 47.59949183720798, 12: 16.085267842704923, 13: 25.948399902803725, 14: 3.4789667078988953, 15: 3.588365886447658, 16: 2.9427666226641116, 17: 2.4953643888533383, 18: 2.276157968232776, 19: 2.2425109644754957, 20: 2.115545973831607}\n"
     ]
    }
   ],
   "source": [
    "for i in range(2, 20):\n",
    "    num_scanners = i + 1\n",
    "    # for simplicity lets assume they have 2x the scanners as id controllers, as most imports have\n",
    "    num_controllers = floor(num_scanners/2)\n",
    "    sim_time = 360\n",
    "    wait_time = []\n",
    "    \n",
    "    # airport class inspired by https://simpy.readthedocs.io/en/latest/examples/carwash.html\n",
    "    class Airport(object):\n",
    "        def __init__(self, env, controls, scanners):\n",
    "            self.env = env\n",
    "            self.controller = simpy.Resource(env, controls)\n",
    "            self.scanner = simpy.Resource(env, scanners)\n",
    "\n",
    "\n",
    "        def id_control(self, passenger):\n",
    "            yield self.env.timeout(random.expovariate(server_mu))\n",
    "        \n",
    "        \n",
    "        \n",
    "        def scan(self, passenger):\n",
    "            yield self.env.timeout(random.uniform(scanner_lower, scanner_upper))\n",
    "\n",
    "        \n",
    "    def passenger(env, name, airport):\n",
    "        with airport.controller.request() as request:\n",
    "            start = env.now\n",
    "            yield request\n",
    "            yield env.process(airport.id_control(name))\n",
    "\n",
    "       \n",
    "        with airport.scanner.request() as request:\n",
    "            yield request\n",
    "            yield env.process(airport.scan(name))\n",
    "            wait_time.append(env.now - start)\n",
    "\n",
    "\n",
    "\n",
    "    def setup(env, controls, scanners):\n",
    "        # create airport\n",
    "        airport = Airport(env, controls, scanners)\n",
    "    \n",
    "        for i in range(1):\n",
    "            env.process(passenger(env, 'Passenger %d' % i, airport))\n",
    "\n",
    "    \n",
    "        while True:\n",
    "            arrival_int = random.expovariate(arrival_lambda_1)\n",
    "            yield env.timeout(arrival_int)\n",
    "            i += 1\n",
    "            env.process(passenger(env, 'Passenger %d' % i, airport))\n",
    "        \n",
    "\n",
    "    # Setup and start the simulation\n",
    "    #print('People are arriving...omg!')\n",
    "    \n",
    "    # Create an environment and start the setup process\n",
    "    env = simpy.Environment()\n",
    "    #env.process(setup(env, num_controllers, num_scanners))\n",
    "    env.process(setup(env, num_controllers, num_scanners))\n",
    "\n",
    "\n",
    "    # Execute!\n",
    "    env.run(until=sim_time)\n",
    "    \n",
    "    trial_wait_time = np.mean(wait_time)\n",
    "    print(\"they waited an average of {}. what sucksers! with {} id contorls and {} scanners\".format(\n",
    "        trial_wait_time, num_controllers, num_scanners))\n",
    "    \n",
    "    #lets save this for later\n",
    "    avg_wait_times[i + 1] = np.mean(trial_wait_time)\n",
    "    \n",
    "          \n",
    "print(avg_wait_times) "
   ]
  },
  {
   "cell_type": "markdown",
   "metadata": {},
   "source": [
    "#### Looks like 7 id controllers and 14 scanners did the trick!"
   ]
  }
 ],
 "metadata": {
  "kernelspec": {
   "display_name": "Python 3",
   "language": "python",
   "name": "python3"
  },
  "language_info": {
   "codemirror_mode": {
    "name": "ipython",
    "version": 3
   },
   "file_extension": ".py",
   "mimetype": "text/x-python",
   "name": "python",
   "nbconvert_exporter": "python",
   "pygments_lexer": "ipython3",
   "version": "3.5.6"
  }
 },
 "nbformat": 4,
 "nbformat_minor": 2
}
